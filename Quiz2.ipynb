{
  "nbformat": 4,
  "nbformat_minor": 0,
  "metadata": {
    "colab": {
      "name": "Quiz2.ipynb",
      "provenance": []
    },
    "kernelspec": {
      "name": "python3",
      "display_name": "Python 3"
    }
  },
  "cells": [
    {
      "cell_type": "markdown",
      "metadata": {
        "id": "Vv2v1PA4XBzH",
        "colab_type": "text"
      },
      "source": [
        "##Question 1"
      ]
    },
    {
      "cell_type": "markdown",
      "metadata": {
        "id": "n0bXRVIOvjvG",
        "colab_type": "text"
      },
      "source": [
        "![alt text](https://cdn.discordapp.com/attachments/621775292515614732/621775350774366218/IMG_2746.jpg)"
      ]
    },
    {
      "cell_type": "markdown",
      "metadata": {
        "id": "1tMHfA15dA0d",
        "colab_type": "text"
      },
      "source": [
        "## Question 2"
      ]
    },
    {
      "cell_type": "code",
      "metadata": {
        "id": "T2pstzy1VEXH",
        "colab_type": "code",
        "outputId": "acd2fc70-58be-4859-c049-a56e454a896e",
        "colab": {
          "base_uri": "https://localhost:8080/",
          "height": 303
        }
      },
      "source": [
        "import numpy as np\n",
        "import seaborn as sns\n",
        "from scipy import stats as st\n",
        "import pandas as pd\n",
        "import matplotlib.pyplot as plt\n",
        "\n",
        "! if [ ! -e kirby21.csv ] ; \\\n",
        "  then wget https://raw.githubusercontent.com/bcaffo/ds4bme_intro/master/data/kirby21.csv; \\\n",
        "fi\n",
        "\n",
        "df = pd.read_csv(\"/content/kirby21.csv\")\n",
        "t1l1 = df.loc[(df.type == 1) & (df.level == 1)]\n",
        "\n",
        "#sort the data into Diencephalon_L and Diencephalon_R\n",
        "DL = t1l1.loc[t1l1.roi == 'Diencephalon_L']\n",
        "DR = t1l1.loc[t1l1.roi == 'Diencephalon_R']\n",
        "\n",
        "#extract just the volume values (x is Diencephalon_R & y is Diencephalon_L)\n",
        "x = list(DR.volume)\n",
        "y = list(DL.volume)\n",
        "\n",
        "b1, b0, r_value, p_value, std_err = st.linregress(x, y)\n",
        "\n",
        "sample_error=0\n",
        "for i in range(len(x)):\n",
        "  sample_error += (y[i]-b0-b1*x[i])**2\n",
        "\n",
        "sns.scatterplot(x,y)\n",
        "reg_line = [b0 + b1*x[i] for i in range(len(x))]\n",
        "sns.lineplot(x,reg_line)\n",
        "\n",
        "print('slope:',b1, 'intercept:',b0)\n",
        "print('sample error rate:',sample_error)"
      ],
      "execution_count": 0,
      "outputs": [
        {
          "output_type": "stream",
          "text": [
            "slope: 1.0675677731655153 intercept: -694.180922147847\n",
            "sample error rate: 832740.3005383221\n"
          ],
          "name": "stdout"
        },
        {
          "output_type": "display_data",
          "data": {
            "image/png": "[encoded data removed]",
            "text/plain": [
              "<Figure size 432x288 with 1 Axes>"
            ]
          },
          "metadata": {
            "tags": []
          }
        }
      ]
    },
    {
      "cell_type": "markdown",
      "metadata": {
        "id": "SYIRtRsmYtzC",
        "colab_type": "text"
      },
      "source": [
        "##Question3"
      ]
    },
    {
      "cell_type": "markdown",
      "metadata": {
        "id": "NjD8tVyKYwT7",
        "colab_type": "text"
      },
      "source": [
        "Collect datasets such as records, scores, etc. of sports teams. Use the data to possibly predict outcomes of different sports events."
      ]
    }
  ]
}